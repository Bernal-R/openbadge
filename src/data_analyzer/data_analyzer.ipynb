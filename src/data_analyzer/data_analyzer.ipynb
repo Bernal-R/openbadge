{
 "cells": [
  {
   "cell_type": "code",
   "execution_count": null,
   "metadata": {
    "collapsed": false
   },
   "outputs": [],
   "source": [
    "from data_loader import *\n",
    "from __future__ import division\n",
    "from __future__ import print_function\n",
    "import pandas as pd\n",
    "import bokeh\n",
    "import numpy as np\n",
    "\n",
    "import bokeh.plotting as bp\n",
    "from bokeh.plotting import figure, output_file, show,gridplot\n",
    "from bokeh.models.formatters import DatetimeTickFormatter\n",
    "from bokeh.models.axes import DatetimeAxis\n",
    "\n",
    "from datetime import datetime\n",
    "from datetime import timedelta\n",
    "\n",
    "import pandas as pd\n",
    "\n",
    "bp.output_notebook()"
   ]
  },
  {
   "cell_type": "code",
   "execution_count": null,
   "metadata": {
    "collapsed": false
   },
   "outputs": [],
   "source": [
    "data = DataLoader('E3_7E_44_77_F2_38.scn') #badge data from short experiment\n",
    "#data = DataLoader('FF_6B_D4_CB_22_FA.scn') #badge data from short experiment\n",
    "\n",
    "session_start_time = datetime(2016,1,27,14,26,0)\n",
    "session_end_time = datetime(2016,1,27,14,46,0)\n",
    "\n",
    "#session_start_time = datetime(2016,1,27,15,10,0)\n",
    "#session_end_time = datetime(2016,1,27,16,5,0)\n",
    "\n",
    "#data = DataLoader('badge_v33_EC_21_82_A8_0B_59.scn') #badge data from a 4 days test"
   ]
  },
  {
   "cell_type": "code",
   "execution_count": null,
   "metadata": {
    "collapsed": false
   },
   "outputs": [],
   "source": [
    "freq = data.data[0]['Frequency'] #assuming same freq. for all samples"
   ]
  },
  {
   "cell_type": "code",
   "execution_count": null,
   "metadata": {
    "collapsed": false
   },
   "outputs": [],
   "source": [
    "# take only samples\n",
    "signals = map(lambda x: x['samples'], data.data)\n",
    "\n",
    "# convert \n",
    "con_signals = [map(lambda x: {\"datetime\": x[\"time\"], \"signal\": x['signal']}, i)  for i in signals]\n",
    "#con_signals[0]\n",
    "\n",
    "# Append all samples into an array\n",
    "singals_all = []\n",
    "for s in con_signals:\n",
    "    singals_all.extend(s)\n",
    "    \n",
    "# sort\n",
    "sdata = sorted(singals_all, key=lambda x: x['datetime'])"
   ]
  },
  {
   "cell_type": "markdown",
   "metadata": {},
   "source": [
    "# Check for gaps in data (before loading into pandas. It's faster)"
   ]
  },
  {
   "cell_type": "code",
   "execution_count": null,
   "metadata": {
    "collapsed": false
   },
   "outputs": [],
   "source": [
    "def check_raw_gaps(arr, max_delta_sec = 15):\n",
    "    #max_diff = np.timedelta64(max_delta_sec, 's')\n",
    "    max_diff = timedelta(seconds=1);\n",
    "    prev = None\n",
    "    for i in range (0,len(arr)): # iterate over all lines\n",
    "        #print df.iloc[i].datetime\n",
    "        curr = arr[i]['datetime']\n",
    "        if (prev):\n",
    "            diff = curr-prev\n",
    "            if diff > max_diff:\n",
    "                print (\"{},{},{}\".format(curr,prev,diff))\n",
    "                #break\n",
    "        prev = curr"
   ]
  },
  {
   "cell_type": "code",
   "execution_count": null,
   "metadata": {
    "collapsed": false
   },
   "outputs": [],
   "source": [
    "check_raw_gaps(sdata,15)"
   ]
  },
  {
   "cell_type": "markdown",
   "metadata": {},
   "source": [
    "# Loading data infor Pandas"
   ]
  },
  {
   "cell_type": "code",
   "execution_count": null,
   "metadata": {
    "collapsed": false
   },
   "outputs": [],
   "source": [
    "df = pd.DataFrame()"
   ]
  },
  {
   "cell_type": "code",
   "execution_count": null,
   "metadata": {
    "collapsed": false
   },
   "outputs": [],
   "source": [
    "sdata[10:20]"
   ]
  },
  {
   "cell_type": "code",
   "execution_count": null,
   "metadata": {
    "collapsed": false
   },
   "outputs": [],
   "source": [
    "# Append all samples into a DataFrame\n",
    "#for s in sdata:\n",
    "df = df.append(pd.DataFrame(sdata))"
   ]
  },
  {
   "cell_type": "code",
   "execution_count": null,
   "metadata": {
    "collapsed": false,
    "scrolled": true
   },
   "outputs": [],
   "source": [
    "df = df.set_index(pd.DatetimeIndex(df['datetime']))\n",
    "#df.index"
   ]
  },
  {
   "cell_type": "code",
   "execution_count": null,
   "metadata": {
    "collapsed": false
   },
   "outputs": [],
   "source": [
    "df_fil = df.ix[session_start_time:session_end_time]"
   ]
  },
  {
   "cell_type": "code",
   "execution_count": null,
   "metadata": {
    "collapsed": false
   },
   "outputs": [],
   "source": [
    "df_fil[0:10]"
   ]
  },
  {
   "cell_type": "code",
   "execution_count": null,
   "metadata": {
    "collapsed": false
   },
   "outputs": [],
   "source": [
    "# calc a moving average\n",
    "sr_mean = pd.rolling_mean(df_fil['signal'], window=4*60, min_periods=1, center=False) # 4 samples per sec, 60 seconds\n",
    "\n",
    "# smooth signal\n",
    "sr_smooth = pd.rolling_mean(df_fil['signal'], window=5, min_periods=1, center=False) # 5 samples\n",
    "\n",
    "sr_mean[0:10]"
   ]
  },
  {
   "cell_type": "code",
   "execution_count": null,
   "metadata": {
    "collapsed": false
   },
   "outputs": [],
   "source": [
    "# calc RMS\n",
    "smpls = 4 * 30;\n",
    "#series_sq=df_fil['signal']*df_fil['signal'] # sqaure values\n",
    "series_sq=sr_smooth*sr_smooth # sqaure values\n",
    "series_sq_mean = pd.rolling_mean(series_sq, window=smpls, min_periods=1, center=False) # mean square\n",
    "series_sq_rms = series_sq_mean.apply(np.sqrt)"
   ]
  },
  {
   "cell_type": "code",
   "execution_count": null,
   "metadata": {
    "collapsed": false
   },
   "outputs": [],
   "source": [
    "tools = \"xwheel_zoom,xpan,reset,resize,save\"\n",
    "p = figure(title=\"Signal\", x_axis_label='x', y_axis_label='y'\n",
    "           ,x_axis_type=\"datetime\",width=1000, height=400,y_range=[0, 20], tools=tools)\n",
    "# add a line renderer with legend and line thickness\n",
    "p.line(df_fil.index.to_pydatetime(), df_fil.signal, legend=\"Raw\", line_width=2, color='blue')\n",
    "p.line(sr_smooth.index,sr_smooth, legend=\"Smooth5\", line_width=2, color='Red')\n",
    "p.line(series_sq_rms.index,series_sq_rms, legend=\"RMS30\", line_width=2, color='Gray')\n",
    "p.line(sr_mean.index,sr_mean, legend=\"Mean60\", line_width=2, color='green')\n",
    "p.below[0].formatter.formats = dict(years=['%Y'],months=['%b %Y'],days=['%d %b %Y'],hours=[\"%I:%M %P\"],minutes=[\"%I:%M %P\"]) #minutes is the one i'm interested in\n",
    "\n",
    "# show the results\n",
    "show(p)"
   ]
  },
  {
   "cell_type": "code",
   "execution_count": null,
   "metadata": {
    "collapsed": false
   },
   "outputs": [],
   "source": [
    "#\n",
    "#series_sq_rms\n",
    "df_full = df_fil.copy()\n",
    "df_full['smooth']=sr_smooth\n",
    "df_full['rms']=series_sq_rms\n",
    "\n",
    "# is speaking interval\n",
    "df_full['is_speak'] = df_full.apply(lambda x : 1 if x['smooth'] > x['rms'] else 0, axis=1)"
   ]
  },
  {
   "cell_type": "code",
   "execution_count": null,
   "metadata": {
    "collapsed": false
   },
   "outputs": [],
   "source": [
    "df_full"
   ]
  },
  {
   "cell_type": "code",
   "execution_count": null,
   "metadata": {
    "collapsed": false
   },
   "outputs": [],
   "source": [
    "tools = \"xwheel_zoom,xpan,reset,resize,save\"\n",
    "p1 = figure(title=\"Signal\", x_axis_label='x', y_axis_label='y'\n",
    "           ,x_axis_type=\"datetime\",width=1000, height=400,y_range=[0, 20], tools=tools)\n",
    "# add a line renderer with legend and line thickness\n",
    "p1.line(df_full.index,df_full['is_speak'], legend=\"Speak\", line_width=2, color='blue')\n",
    "p1.line(df_full.index,df_full['smooth'], legend=\"Smooth5\", line_width=2, color='Red')\n",
    "p1.line(df_full.index,df_full['rms'], legend=\"RMS30\", line_width=2, color='Gray')\n",
    "p1.below[0].formatter.formats = dict(years=['%Y'],months=['%b %Y'],days=['%d %b %Y'],hours=[\"%I:%M %P\"],minutes=[\"%I:%M %P\"]) #minutes is the one i'm interested in\n",
    "\n",
    "# show the results\n",
    "show(p1)"
   ]
  },
  {
   "cell_type": "code",
   "execution_count": null,
   "metadata": {
    "collapsed": false
   },
   "outputs": [],
   "source": [
    "# remove short intervals, \"fill in\" short blanks\n",
    "# expects a data frame that indicates start time of samples that include speak. The freq indicates the time\n",
    "# between samples (so each sample actually represents a speaking interval which is freq ms long).\n",
    "def determine_speakers_intervals(df_speaker, group_max_time_diff_ms = 1000, min_interval_time_ms = 300, freq_ms = 250):\n",
    "        def groupwhile(df, fwhile):\n",
    "            groups = []\n",
    "            i = 0\n",
    "            while i < len(df):\n",
    "                j = i\n",
    "                while j < len(df) - 1 and fwhile(i,j, j + 1):\n",
    "                    j = j + 1\n",
    "                groups.append(df.iloc[i:j + 1])\n",
    "                i = j + 1\n",
    "            return groups\n",
    "\n",
    "        #group_max_time_diff_sec = max md between records from the same user\n",
    "        #min_interval_time_ms = minimum ms duration of speaking interval\n",
    "        def get_speakers_intervals(df,group_max_time_diff_ms,min_interval_time_ms,freq_ms):\n",
    "                group_max_time_diff = np.timedelta64(group_max_time_diff_ms, 'ms')\n",
    "                min_interval_time = np.timedelta64(min_interval_time_ms, 'ms')\n",
    "                np_freq = np.timedelta64(freq_ms, 'ms')\n",
    "                groups = groupwhile(df, lambda start,curr, next: df.index[next]-df.index[curr] <= group_max_time_diff)\n",
    "                values = []\n",
    "                for g in groups:\n",
    "                    values.append([g.index[0], g.index[-1]+np_freq,len(g.index)]) # end time shoud include the end of the time interval\n",
    "                stops = pd.DataFrame(values, columns=['start_time', 'end_time','cnt'])\n",
    "                stops = stops[stops.end_time - stops.start_time >= min_interval_time]\n",
    "                return stops\n",
    "\n",
    "        speakers_intervals = get_speakers_intervals(df_speaker,group_max_time_diff_ms,min_interval_time_ms,freq_ms) # allow 3 timeslots of silence, interval should be at least 500 ms long\n",
    "        return speakers_intervals"
   ]
  },
  {
   "cell_type": "code",
   "execution_count": null,
   "metadata": {
    "collapsed": false
   },
   "outputs": [],
   "source": [
    "df_speak_only = df_full[df_full.is_speak == 1]\n",
    "speak_intervals = determine_speakers_intervals(df_speaker=df_speak_only,group_max_time_diff_ms=1000, min_interval_time_ms = 300,freq_ms=freq)"
   ]
  },
  {
   "cell_type": "code",
   "execution_count": null,
   "metadata": {
    "collapsed": false
   },
   "outputs": [],
   "source": [
    "speak_intervals[0:100]"
   ]
  },
  {
   "cell_type": "code",
   "execution_count": null,
   "metadata": {
    "collapsed": false
   },
   "outputs": [],
   "source": [
    "p2 = figure(title=\"Speaking intervals\", y_axis_label='Speaker',x_axis_type=\"datetime\",plot_width=1000,plot_height=300\n",
    "            ,x_range=p1.x_range, tools=tools)#, y_range=p1.y_range)\n",
    "x = []\n",
    "y = []\n",
    "x2 = []\n",
    "y2 = []\n",
    "\n",
    "for i in range(len(speak_intervals)):\n",
    "    #print speakers_intervals.iloc[i]\n",
    "    r = speak_intervals.iloc[i]\n",
    "    x.append(r.start_time)\n",
    "    y.append(1)\n",
    "    x2.append(r.end_time)\n",
    "    y2.append(1)\n",
    "\n",
    "p2.segment(x, y, x2, y2,  \n",
    "        line_width=15, line_alpha=1)\n",
    "\n",
    "p = gridplot([[p1],[p2]])\n",
    "show(p)"
   ]
  },
  {
   "cell_type": "markdown",
   "metadata": {
    "collapsed": true
   },
   "source": [
    "# export data"
   ]
  },
  {
   "cell_type": "code",
   "execution_count": null,
   "metadata": {
    "collapsed": false
   },
   "outputs": [],
   "source": [
    "df_fil.to_csv(\"E3_7E_44_77_F2_38_fil.csv\", sep=',',index=False)"
   ]
  },
  {
   "cell_type": "code",
   "execution_count": null,
   "metadata": {
    "collapsed": true
   },
   "outputs": [],
   "source": [
    "df_full.to_csv(\"E3_7E_44_77_F2_38_fil_full.csv\", sep=',',index=False)"
   ]
  },
  {
   "cell_type": "code",
   "execution_count": null,
   "metadata": {
    "collapsed": true
   },
   "outputs": [],
   "source": []
  }
 ],
 "metadata": {
  "kernelspec": {
   "display_name": "Python 2",
   "language": "python",
   "name": "python2"
  },
  "language_info": {
   "codemirror_mode": {
    "name": "ipython",
    "version": 2
   },
   "file_extension": ".py",
   "mimetype": "text/x-python",
   "name": "python",
   "nbconvert_exporter": "python",
   "pygments_lexer": "ipython2",
   "version": "2.7.6"
  }
 },
 "nbformat": 4,
 "nbformat_minor": 0
}
