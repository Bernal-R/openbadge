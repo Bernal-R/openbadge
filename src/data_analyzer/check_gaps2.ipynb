{
 "cells": [
  {
   "cell_type": "code",
   "execution_count": null,
   "metadata": {
    "collapsed": false
   },
   "outputs": [],
   "source": [
    "from data_loader2 import *\n",
    "from __future__ import division\n",
    "from __future__ import print_function\n",
    "import pandas as pd\n",
    "import bokeh\n",
    "import numpy as np\n",
    "\n",
    "import bokeh.plotting as bp\n",
    "from bokeh.plotting import figure, output_file, show,gridplot\n",
    "from bokeh.models.formatters import DatetimeTickFormatter\n",
    "from bokeh.models.axes import DatetimeAxis\n",
    "\n",
    "from datetime import datetime\n",
    "from datetime import timedelta\n",
    "\n",
    "import pandas as pd\n",
    "\n",
    "bp.output_notebook()"
   ]
  },
  {
   "cell_type": "code",
   "execution_count": null,
   "metadata": {
    "collapsed": false
   },
   "outputs": [],
   "source": [
    "data = DataLoader('data/D6_B8_C6_BA_9B_2B.scn') #"
   ]
  },
  {
   "cell_type": "code",
   "execution_count": null,
   "metadata": {
    "collapsed": false
   },
   "outputs": [],
   "source": [
    "freq = data.data[0]['Frequency'] #assuming same freq. for all samples"
   ]
  },
  {
   "cell_type": "code",
   "execution_count": null,
   "metadata": {
    "collapsed": false
   },
   "outputs": [],
   "source": [
    "# take only samples\n",
    "signals = map(lambda x: x['samples'], data.data)\n",
    "\n",
    "# convert \n",
    "con_signals = [map(lambda x: {\"datetime\": x[\"time\"], \"signal\": x['signal']}, i)  for i in signals]\n",
    "#con_signals[0]\n",
    "\n",
    "# Append all samples into an array\n",
    "singals_all = []\n",
    "for s in con_signals:\n",
    "    if len(s) == 114: #only load full chunks\n",
    "        singals_all.extend(s)\n",
    "    \n",
    "# sort\n",
    "sdata = sorted(singals_all, key=lambda x: x['datetime'])"
   ]
  },
  {
   "cell_type": "code",
   "execution_count": null,
   "metadata": {
    "collapsed": false
   },
   "outputs": [],
   "source": [
    "signals[2]"
   ]
  },
  {
   "cell_type": "markdown",
   "metadata": {},
   "source": [
    "# Check for gaps in data (before loading into pandas. It's faster)"
   ]
  },
  {
   "cell_type": "code",
   "execution_count": null,
   "metadata": {
    "collapsed": true
   },
   "outputs": [],
   "source": [
    "def check_raw_gaps(arr, max_delta_sec = 250):\n",
    "    #max_diff = np.timedelta64(max_delta_sec, 's')\n",
    "    max_diff = timedelta(milliseconds=max_delta_sec);\n",
    "    prev = None\n",
    "    for i in range (0,len(arr)): # iterate over all lines\n",
    "        #print df.iloc[i].datetime\n",
    "        curr = arr[i]['datetime']\n",
    "        if (prev):\n",
    "            diff = curr-prev\n",
    "            if diff > max_diff:\n",
    "                print (\"{},{},{}\".format(curr,prev,diff))\n",
    "        prev = curr\n"
   ]
  },
  {
   "cell_type": "code",
   "execution_count": null,
   "metadata": {
    "collapsed": false
   },
   "outputs": [],
   "source": [
    "check_raw_gaps(sdata,250)"
   ]
  },
  {
   "cell_type": "markdown",
   "metadata": {},
   "source": [
    "# look at chunk dates"
   ]
  },
  {
   "cell_type": "code",
   "execution_count": null,
   "metadata": {
    "collapsed": false
   },
   "outputs": [],
   "source": [
    "data.data[3]"
   ]
  },
  {
   "cell_type": "code",
   "execution_count": null,
   "metadata": {
    "collapsed": false
   },
   "outputs": [],
   "source": [
    "# take only chunk dates\n",
    "dates = map(lambda x: x['Intial_dtime'], data.data)\n",
    "sdates = sorted(dates)"
   ]
  },
  {
   "cell_type": "code",
   "execution_count": null,
   "metadata": {
    "collapsed": false
   },
   "outputs": [],
   "source": [
    "sdates[0]"
   ]
  },
  {
   "cell_type": "code",
   "execution_count": null,
   "metadata": {
    "collapsed": false
   },
   "outputs": [],
   "source": [
    "def check_raw_gaps_chunks(arr, max_delta_sec = 250):\n",
    "    max_diff = timedelta(milliseconds=max_delta_sec);\n",
    "    prev = None\n",
    "    for i in range (0,len(arr)): # iterate over all lines\n",
    "        #print df.iloc[i].datetime\n",
    "        curr = arr[i]\n",
    "        if (prev):\n",
    "            diff = curr-prev\n",
    "            if diff > max_diff:\n",
    "                print (\"{},{},{}\".format(curr,prev,diff))\n",
    "                #break\n",
    "        prev = curr\n",
    "        \n"
   ]
  },
  {
   "cell_type": "code",
   "execution_count": null,
   "metadata": {
    "collapsed": false
   },
   "outputs": [],
   "source": [
    "ms_between = 250*114\n",
    "check_raw_gaps_chunks(sdates,1000)"
   ]
  },
  {
   "cell_type": "code",
   "execution_count": null,
   "metadata": {
    "collapsed": false
   },
   "outputs": [],
   "source": [
    "timedelta(milliseconds=ms_between)"
   ]
  },
  {
   "cell_type": "code",
   "execution_count": null,
   "metadata": {
    "collapsed": true
   },
   "outputs": [],
   "source": []
  }
 ],
 "metadata": {
  "kernelspec": {
   "display_name": "Python 2",
   "language": "python",
   "name": "python2"
  },
  "language_info": {
   "codemirror_mode": {
    "name": "ipython",
    "version": 2
   },
   "file_extension": ".py",
   "mimetype": "text/x-python",
   "name": "python",
   "nbconvert_exporter": "python",
   "pygments_lexer": "ipython2",
   "version": "2.7.6"
  }
 },
 "nbformat": 4,
 "nbformat_minor": 0
}
