{
 "cells": [
  {
   "cell_type": "code",
   "execution_count": 1,
   "metadata": {
    "collapsed": false
   },
   "outputs": [
    {
     "data": {
      "text/html": [
       "\n",
       "    <div class=\"bk-banner\">\n",
       "        <a href=\"http://bokeh.pydata.org\" target=\"_blank\" class=\"bk-logo bk-logo-small bk-logo-notebook\"></a>\n",
       "        <span id=\"c1397dbc-cf8e-453b-b9fd-a04c555a6c19\">Loading BokehJS ...</span>\n",
       "    </div>"
      ]
     },
     "metadata": {},
     "output_type": "display_data"
    },
    {
     "data": {
      "application/javascript": [
       "\n",
       "(function(global) {\n",
       "  function now() {\n",
       "    return new Date();\n",
       "  }\n",
       "\n",
       "  if (typeof (window._bokeh_onload_callbacks) === \"undefined\") {\n",
       "    window._bokeh_onload_callbacks = [];\n",
       "  }\n",
       "\n",
       "  function run_callbacks() {\n",
       "    window._bokeh_onload_callbacks.forEach(function(callback) { callback() });\n",
       "    delete window._bokeh_onload_callbacks\n",
       "    console.info(\"Bokeh: all callbacks have finished\");\n",
       "  }\n",
       "\n",
       "  function load_libs(js_urls, callback) {\n",
       "    window._bokeh_onload_callbacks.push(callback);\n",
       "    if (window._bokeh_is_loading > 0) {\n",
       "      console.log(\"Bokeh: BokehJS is being loaded, scheduling callback at\", now());\n",
       "      return null;\n",
       "    }\n",
       "    if (js_urls == null || js_urls.length === 0) {\n",
       "      run_callbacks();\n",
       "      return null;\n",
       "    }\n",
       "    console.log(\"Bokeh: BokehJS not loaded, scheduling load and callback at\", now());\n",
       "    window._bokeh_is_loading = js_urls.length;\n",
       "    for (var i = 0; i < js_urls.length; i++) {\n",
       "      var url = js_urls[i];\n",
       "      var s = document.createElement('script');\n",
       "      s.src = url;\n",
       "      s.async = false;\n",
       "      s.onreadystatechange = s.onload = function() {\n",
       "        window._bokeh_is_loading--;\n",
       "        if (window._bokeh_is_loading === 0) {\n",
       "          console.log(\"Bokeh: all BokehJS libraries loaded\");\n",
       "          run_callbacks()\n",
       "        }\n",
       "      };\n",
       "      s.onerror = function() {\n",
       "        console.warn(\"failed to load library \" + url);\n",
       "      };\n",
       "      console.log(\"Bokeh: injecting script tag for BokehJS library: \", url);\n",
       "      document.getElementsByTagName(\"head\")[0].appendChild(s);\n",
       "    }\n",
       "  };\n",
       "\n",
       "  var js_urls = ['https://cdn.pydata.org/bokeh/release/bokeh-0.11.1.min.js', 'https://cdn.pydata.org/bokeh/release/bokeh-widgets-0.11.1.min.js', 'https://cdn.pydata.org/bokeh/release/bokeh-compiler-0.11.1.min.js'];\n",
       "\n",
       "  var inline_js = [\n",
       "    function(Bokeh) {\n",
       "      Bokeh.set_log_level(\"info\");\n",
       "    },\n",
       "    \n",
       "    function(Bokeh) {\n",
       "      Bokeh.$(\"#c1397dbc-cf8e-453b-b9fd-a04c555a6c19\").text(\"BokehJS successfully loaded\");\n",
       "    },\n",
       "    function(Bokeh) {\n",
       "      console.log(\"Bokeh: injecting CSS: https://cdn.pydata.org/bokeh/release/bokeh-0.11.1.min.css\");\n",
       "      Bokeh.embed.inject_css(\"https://cdn.pydata.org/bokeh/release/bokeh-0.11.1.min.css\");\n",
       "      console.log(\"Bokeh: injecting CSS: https://cdn.pydata.org/bokeh/release/bokeh-widgets-0.11.1.min.css\");\n",
       "      Bokeh.embed.inject_css(\"https://cdn.pydata.org/bokeh/release/bokeh-widgets-0.11.1.min.css\");\n",
       "    }\n",
       "  ];\n",
       "\n",
       "  function run_inline_js() {\n",
       "    for (var i = 0; i < inline_js.length; i++) {\n",
       "      inline_js[i](window.Bokeh);\n",
       "    }\n",
       "  }\n",
       "\n",
       "  if (window._bokeh_is_loading === 0) {\n",
       "    console.log(\"Bokeh: BokehJS loaded, going straight to plotting\");\n",
       "    run_inline_js();\n",
       "  } else {\n",
       "    load_libs(js_urls, function() {\n",
       "      console.log(\"Bokeh: BokehJS plotting callback run at\", now());\n",
       "      run_inline_js();\n",
       "    });\n",
       "  }\n",
       "}(this));"
      ]
     },
     "metadata": {},
     "output_type": "display_data"
    }
   ],
   "source": [
    "from app_data_loader import *\n",
    "from __future__ import division\n",
    "from __future__ import print_function\n",
    "import pandas as pd\n",
    "import bokeh\n",
    "import numpy as np\n",
    "\n",
    "import bokeh.plotting as bp\n",
    "from bokeh.plotting import figure, output_file, show,gridplot\n",
    "from bokeh.models.formatters import DatetimeTickFormatter\n",
    "from bokeh.models.axes import DatetimeAxis\n",
    "\n",
    "from datetime import datetime\n",
    "from datetime import timedelta\n",
    "\n",
    "import pandas as pd\n",
    "\n",
    "bp.output_notebook()"
   ]
  },
  {
   "cell_type": "code",
   "execution_count": 2,
   "metadata": {
    "collapsed": false
   },
   "outputs": [
    {
     "name": "stdout",
     "output_type": "stream",
     "text": [
      "(\"Error: number of samples doesn't match actaul array. Chunk# \", 10709)\n",
      "(\"Error: number of samples doesn't match actaul array. Chunk# \", 10719)\n",
      "(\"Error: number of samples doesn't match actaul array. Chunk# \", 10729)\n",
      "(\"Error: number of samples doesn't match actaul array. Chunk# \", 10743)\n",
      "(\"Error: number of samples doesn't match actaul array. Chunk# \", 10757)\n",
      "(\"Error: number of samples doesn't match actaul array. Chunk# \", 10771)\n",
      "(\"Error: number of samples doesn't match actaul array. Chunk# \", 10776)\n",
      "(\"Error: number of samples doesn't match actaul array. Chunk# \", 10781)\n",
      "(\"Error: number of samples doesn't match actaul array. Chunk# \", 10787)\n",
      "(\"Error: number of samples doesn't match actaul array. Chunk# \", 10797)\n",
      "(\"Error: number of samples doesn't match actaul array. Chunk# \", 10800)\n",
      "(\"Error: number of samples doesn't match actaul array. Chunk# \", 10804)\n",
      "(\"Error: number of samples doesn't match actaul array. Chunk# \", 10808)\n",
      "(\"Error: number of samples doesn't match actaul array. Chunk# \", 10814)\n",
      "(\"Error: number of samples doesn't match actaul array. Chunk# \", 10818)\n",
      "(\"Error: number of samples doesn't match actaul array. Chunk# \", 10822)\n",
      "(\"Error: number of samples doesn't match actaul array. Chunk# \", 10833)\n",
      "(\"Error: number of samples doesn't match actaul array. Chunk# \", 10837)\n",
      "(\"Error: number of samples doesn't match actaul array. Chunk# \", 10854)\n",
      "(\"Error: number of samples doesn't match actaul array. Chunk# \", 10857)\n",
      "(\"Error: number of samples doesn't match actaul array. Chunk# \", 10862)\n",
      "(\"Error: number of samples doesn't match actaul array. Chunk# \", 10866)\n",
      "(\"Error: number of samples doesn't match actaul array. Chunk# \", 10869)\n",
      "(\"Error: number of samples doesn't match actaul array. Chunk# \", 10873)\n",
      "(\"Error: number of samples doesn't match actaul array. Chunk# \", 10876)\n",
      "(\"Error: number of samples doesn't match actaul array. Chunk# \", 10881)\n",
      "(\"Error: number of samples doesn't match actaul array. Chunk# \", 10893)\n",
      "(\"Error: number of samples doesn't match actaul array. Chunk# \", 10899)\n",
      "(\"Error: number of samples doesn't match actaul array. Chunk# \", 10903)\n",
      "(\"Error: number of samples doesn't match actaul array. Chunk# \", 10909)\n",
      "(\"Error: number of samples doesn't match actaul array. Chunk# \", 10916)\n",
      "(\"Error: number of samples doesn't match actaul array. Chunk# \", 10919)\n",
      "(\"Error: number of samples doesn't match actaul array. Chunk# \", 10923)\n"
     ]
    }
   ],
   "source": [
    "#data = DataLoader('bat_data/E6_AA_91_B9_BF_48.scn.3') #\n",
    "\n",
    "appData = AppDataLoader('app_data/879EO_1465008434236.txt') #\n",
    "samplesDf = appData.jasonChunksToSamples()"
   ]
  },
  {
   "cell_type": "code",
   "execution_count": 3,
   "metadata": {
    "collapsed": false
   },
   "outputs": [
    {
     "data": {
      "text/html": [
       "<div>\n",
       "<table border=\"1\" class=\"dataframe\">\n",
       "  <thead>\n",
       "    <tr style=\"text-align: right;\">\n",
       "      <th></th>\n",
       "      <th>badge</th>\n",
       "      <th>member</th>\n",
       "      <th>signal</th>\n",
       "      <th>voltage</th>\n",
       "    </tr>\n",
       "    <tr>\n",
       "      <th>datetime</th>\n",
       "      <th></th>\n",
       "      <th></th>\n",
       "      <th></th>\n",
       "      <th></th>\n",
       "    </tr>\n",
       "  </thead>\n",
       "  <tbody>\n",
       "    <tr>\n",
       "      <th>2016-06-04 02:47:15.153</th>\n",
       "      <td>C8:62:29:B6:AC:B4</td>\n",
       "      <td>W6NMGEVHRE</td>\n",
       "      <td>5</td>\n",
       "      <td>2.681525</td>\n",
       "    </tr>\n",
       "    <tr>\n",
       "      <th>2016-06-04 02:47:15.203</th>\n",
       "      <td>C8:62:29:B6:AC:B4</td>\n",
       "      <td>W6NMGEVHRE</td>\n",
       "      <td>6</td>\n",
       "      <td>2.681525</td>\n",
       "    </tr>\n",
       "    <tr>\n",
       "      <th>2016-06-04 02:47:15.253</th>\n",
       "      <td>C8:62:29:B6:AC:B4</td>\n",
       "      <td>W6NMGEVHRE</td>\n",
       "      <td>5</td>\n",
       "      <td>2.681525</td>\n",
       "    </tr>\n",
       "    <tr>\n",
       "      <th>2016-06-04 02:47:15.303</th>\n",
       "      <td>C8:62:29:B6:AC:B4</td>\n",
       "      <td>W6NMGEVHRE</td>\n",
       "      <td>6</td>\n",
       "      <td>2.681525</td>\n",
       "    </tr>\n",
       "    <tr>\n",
       "      <th>2016-06-04 02:47:15.353</th>\n",
       "      <td>C8:62:29:B6:AC:B4</td>\n",
       "      <td>W6NMGEVHRE</td>\n",
       "      <td>5</td>\n",
       "      <td>2.681525</td>\n",
       "    </tr>\n",
       "  </tbody>\n",
       "</table>\n",
       "</div>"
      ],
      "text/plain": [
       "                                     badge      member  signal   voltage\n",
       "datetime                                                                \n",
       "2016-06-04 02:47:15.153  C8:62:29:B6:AC:B4  W6NMGEVHRE       5  2.681525\n",
       "2016-06-04 02:47:15.203  C8:62:29:B6:AC:B4  W6NMGEVHRE       6  2.681525\n",
       "2016-06-04 02:47:15.253  C8:62:29:B6:AC:B4  W6NMGEVHRE       5  2.681525\n",
       "2016-06-04 02:47:15.303  C8:62:29:B6:AC:B4  W6NMGEVHRE       6  2.681525\n",
       "2016-06-04 02:47:15.353  C8:62:29:B6:AC:B4  W6NMGEVHRE       5  2.681525"
      ]
     },
     "execution_count": 3,
     "metadata": {},
     "output_type": "execute_result"
    }
   ],
   "source": [
    "samplesDf.head()"
   ]
  },
  {
   "cell_type": "code",
   "execution_count": 4,
   "metadata": {
    "collapsed": false
   },
   "outputs": [
    {
     "data": {
      "text/html": [
       "<div>\n",
       "<table border=\"1\" class=\"dataframe\">\n",
       "  <thead>\n",
       "    <tr>\n",
       "      <th></th>\n",
       "      <th colspan=\"4\" halign=\"left\">signal</th>\n",
       "      <th colspan=\"4\" halign=\"left\">voltage</th>\n",
       "    </tr>\n",
       "    <tr>\n",
       "      <th></th>\n",
       "      <th>mean</th>\n",
       "      <th>count</th>\n",
       "      <th>min</th>\n",
       "      <th>max</th>\n",
       "      <th>mean</th>\n",
       "      <th>count</th>\n",
       "      <th>min</th>\n",
       "      <th>max</th>\n",
       "    </tr>\n",
       "    <tr>\n",
       "      <th>badge</th>\n",
       "      <th></th>\n",
       "      <th></th>\n",
       "      <th></th>\n",
       "      <th></th>\n",
       "      <th></th>\n",
       "      <th></th>\n",
       "      <th></th>\n",
       "      <th></th>\n",
       "    </tr>\n",
       "  </thead>\n",
       "  <tbody>\n",
       "    <tr>\n",
       "      <th>C8:62:29:B6:AC:B4</th>\n",
       "      <td>6.757685</td>\n",
       "      <td>611729</td>\n",
       "      <td>1</td>\n",
       "      <td>135</td>\n",
       "      <td>2.348669</td>\n",
       "      <td>611729</td>\n",
       "      <td>1.829912</td>\n",
       "      <td>2.681525</td>\n",
       "    </tr>\n",
       "    <tr>\n",
       "      <th>D6:B8:C6:BA:9B:2B</th>\n",
       "      <td>4.394153</td>\n",
       "      <td>663144</td>\n",
       "      <td>0</td>\n",
       "      <td>82</td>\n",
       "      <td>2.470331</td>\n",
       "      <td>663144</td>\n",
       "      <td>2.044575</td>\n",
       "      <td>2.751906</td>\n",
       "    </tr>\n",
       "  </tbody>\n",
       "</table>\n",
       "</div>"
      ],
      "text/plain": [
       "                     signal                    voltage                    \\\n",
       "                       mean   count min  max      mean   count       min   \n",
       "badge                                                                      \n",
       "C8:62:29:B6:AC:B4  6.757685  611729   1  135  2.348669  611729  1.829912   \n",
       "D6:B8:C6:BA:9B:2B  4.394153  663144   0   82  2.470331  663144  2.044575   \n",
       "\n",
       "                             \n",
       "                        max  \n",
       "badge                        \n",
       "C8:62:29:B6:AC:B4  2.681525  \n",
       "D6:B8:C6:BA:9B:2B  2.751906  "
      ]
     },
     "execution_count": 4,
     "metadata": {},
     "output_type": "execute_result"
    }
   ],
   "source": [
    "samplesDf.groupby(['badge']).agg(['mean', 'count','min','max'])"
   ]
  },
  {
   "cell_type": "markdown",
   "metadata": {},
   "source": [
    "# check gaps between chunks"
   ]
  },
  {
   "cell_type": "code",
   "execution_count": 5,
   "metadata": {
    "collapsed": false
   },
   "outputs": [
    {
     "name": "stdout",
     "output_type": "stream",
     "text": [
      "               badge  numSamples             ts   voltage\n",
      "0  C8:62:29:B6:AC:B4         114  1465008435153  2.681525\n",
      "1  D6:B8:C6:BA:9B:2B         114  1465008435886  2.751906\n",
      "2  C8:62:29:B6:AC:B4         114  1465008440853  2.681525\n",
      "3  D6:B8:C6:BA:9B:2B         114  1465008441586  2.751906\n",
      "4  C8:62:29:B6:AC:B4         114  1465008446525  2.674487\n"
     ]
    }
   ],
   "source": [
    "timestampsMs = []\n",
    "for j in range(len(appData.jasonChunks)):\n",
    "    batch = {}\n",
    "    batch.update(appData.jasonChunks[j])  # Create a deep copy of the jth batch of samples\n",
    "    samples = batch.pop('samples')\n",
    "    badge = batch.pop('badge')\n",
    "    voltage = batch.pop('voltage')\n",
    "    numSamples = batch.pop('numSamples')\n",
    "    reference_timestamp = batch.pop('timestamp') * 1000 + batch.pop(\n",
    "                'timestamp_ms')  # reference timestamp in milliseconds\n",
    "    timestampsMs.append({'ts':reference_timestamp, 'badge':badge, 'voltage':voltage, 'numSamples':numSamples})\n",
    "    \n",
    "dfTimestampsMs = pd.DataFrame(timestampsMs)\n",
    "print(dfTimestampsMs.head())"
   ]
  },
  {
   "cell_type": "code",
   "execution_count": 6,
   "metadata": {
    "collapsed": false
   },
   "outputs": [
    {
     "name": "stdout",
     "output_type": "stream",
     "text": [
      "   index              badge  numSamples             ts   voltage\n",
      "0      1  D6:B8:C6:BA:9B:2B         114  1465008435886  2.751906\n",
      "1      3  D6:B8:C6:BA:9B:2B         114  1465008441586  2.751906\n",
      "2      5  D6:B8:C6:BA:9B:2B         114  1465008447255  2.751906\n",
      "3      7  D6:B8:C6:BA:9B:2B         114  1465008452984  2.751906\n",
      "4      9  D6:B8:C6:BA:9B:2B         114  1465008458686  2.751906\n"
     ]
    }
   ],
   "source": [
    "dfTimestampsMsBadge1 = dfTimestampsMs[dfTimestampsMs.badge=='D6:B8:C6:BA:9B:2B'].copy().reset_index()\n",
    "print(dfTimestampsMsBadge1.head())"
   ]
  },
  {
   "cell_type": "code",
   "execution_count": 7,
   "metadata": {
    "collapsed": false
   },
   "outputs": [
    {
     "data": {
      "text/plain": [
       "index           int64\n",
       "badge          object\n",
       "numSamples      int64\n",
       "ts              int64\n",
       "voltage       float64\n",
       "dtype: object"
      ]
     },
     "execution_count": 7,
     "metadata": {},
     "output_type": "execute_result"
    }
   ],
   "source": [
    "dfTimestampsMsBadge1.dtypes"
   ]
  },
  {
   "cell_type": "code",
   "execution_count": 8,
   "metadata": {
    "collapsed": false
   },
   "outputs": [
    {
     "data": {
      "text/html": [
       "<div>\n",
       "<table border=\"1\" class=\"dataframe\">\n",
       "  <thead>\n",
       "    <tr style=\"text-align: right;\">\n",
       "      <th></th>\n",
       "      <th>index</th>\n",
       "      <th>badge</th>\n",
       "      <th>numSamples</th>\n",
       "      <th>ts</th>\n",
       "      <th>voltage</th>\n",
       "      <th>ts_prev</th>\n",
       "      <th>diff_ts</th>\n",
       "    </tr>\n",
       "  </thead>\n",
       "  <tbody>\n",
       "    <tr>\n",
       "      <th>0</th>\n",
       "      <td>1</td>\n",
       "      <td>D6:B8:C6:BA:9B:2B</td>\n",
       "      <td>114</td>\n",
       "      <td>1465008435886</td>\n",
       "      <td>2.751906</td>\n",
       "      <td>1465008441586</td>\n",
       "      <td>5700</td>\n",
       "    </tr>\n",
       "    <tr>\n",
       "      <th>1</th>\n",
       "      <td>3</td>\n",
       "      <td>D6:B8:C6:BA:9B:2B</td>\n",
       "      <td>114</td>\n",
       "      <td>1465008441586</td>\n",
       "      <td>2.751906</td>\n",
       "      <td>1465008447255</td>\n",
       "      <td>5669</td>\n",
       "    </tr>\n",
       "    <tr>\n",
       "      <th>2</th>\n",
       "      <td>5</td>\n",
       "      <td>D6:B8:C6:BA:9B:2B</td>\n",
       "      <td>114</td>\n",
       "      <td>1465008447255</td>\n",
       "      <td>2.751906</td>\n",
       "      <td>1465008452984</td>\n",
       "      <td>5729</td>\n",
       "    </tr>\n",
       "    <tr>\n",
       "      <th>3</th>\n",
       "      <td>7</td>\n",
       "      <td>D6:B8:C6:BA:9B:2B</td>\n",
       "      <td>114</td>\n",
       "      <td>1465008452984</td>\n",
       "      <td>2.751906</td>\n",
       "      <td>1465008458686</td>\n",
       "      <td>5702</td>\n",
       "    </tr>\n",
       "    <tr>\n",
       "      <th>4</th>\n",
       "      <td>9</td>\n",
       "      <td>D6:B8:C6:BA:9B:2B</td>\n",
       "      <td>114</td>\n",
       "      <td>1465008458686</td>\n",
       "      <td>2.751906</td>\n",
       "      <td>1465008464396</td>\n",
       "      <td>5710</td>\n",
       "    </tr>\n",
       "  </tbody>\n",
       "</table>\n",
       "</div>"
      ],
      "text/plain": [
       "   index              badge  numSamples             ts   voltage  \\\n",
       "0      1  D6:B8:C6:BA:9B:2B         114  1465008435886  2.751906   \n",
       "1      3  D6:B8:C6:BA:9B:2B         114  1465008441586  2.751906   \n",
       "2      5  D6:B8:C6:BA:9B:2B         114  1465008447255  2.751906   \n",
       "3      7  D6:B8:C6:BA:9B:2B         114  1465008452984  2.751906   \n",
       "4      9  D6:B8:C6:BA:9B:2B         114  1465008458686  2.751906   \n",
       "\n",
       "         ts_prev  diff_ts  \n",
       "0  1465008441586     5700  \n",
       "1  1465008447255     5669  \n",
       "2  1465008452984     5729  \n",
       "3  1465008458686     5702  \n",
       "4  1465008464396     5710  "
      ]
     },
     "execution_count": 8,
     "metadata": {},
     "output_type": "execute_result"
    }
   ],
   "source": [
    "dfTimestampsMsBadge1['ts_prev'] = dfTimestampsMsBadge1['ts'].shift(-1).fillna(0.0).astype(int)\n",
    "dfTimestampsMsBadge1['diff_ts'] = dfTimestampsMsBadge1['ts_prev'] - dfTimestampsMsBadge1['ts'] #dfTimestampsMsBadge1['ts'].diff()\n",
    "dfTimestampsMsBadge1.head()"
   ]
  },
  {
   "cell_type": "code",
   "execution_count": 9,
   "metadata": {
    "collapsed": false
   },
   "outputs": [
    {
     "name": "stdout",
     "output_type": "stream",
     "text": [
      "5800\n"
     ]
    },
    {
     "data": {
      "text/html": [
       "<div>\n",
       "<table border=\"1\" class=\"dataframe\">\n",
       "  <thead>\n",
       "    <tr style=\"text-align: right;\">\n",
       "      <th></th>\n",
       "      <th>index</th>\n",
       "      <th>badge</th>\n",
       "      <th>numSamples</th>\n",
       "      <th>ts</th>\n",
       "      <th>voltage</th>\n",
       "      <th>ts_prev</th>\n",
       "      <th>diff_ts</th>\n",
       "      <th>expected</th>\n",
       "    </tr>\n",
       "  </thead>\n",
       "  <tbody>\n",
       "    <tr>\n",
       "      <th>1218</th>\n",
       "      <td>2437</td>\n",
       "      <td>D6:B8:C6:BA:9B:2B</td>\n",
       "      <td>114</td>\n",
       "      <td>1465015378836</td>\n",
       "      <td>2.632258</td>\n",
       "      <td>1465015384649</td>\n",
       "      <td>5813</td>\n",
       "      <td>5800</td>\n",
       "    </tr>\n",
       "    <tr>\n",
       "      <th>2377</th>\n",
       "      <td>4755</td>\n",
       "      <td>D6:B8:C6:BA:9B:2B</td>\n",
       "      <td>114</td>\n",
       "      <td>1465021984723</td>\n",
       "      <td>2.435191</td>\n",
       "      <td>1465021991388</td>\n",
       "      <td>6665</td>\n",
       "      <td>5800</td>\n",
       "    </tr>\n",
       "    <tr>\n",
       "      <th>3961</th>\n",
       "      <td>7923</td>\n",
       "      <td>D6:B8:C6:BA:9B:2B</td>\n",
       "      <td>114</td>\n",
       "      <td>1465031014752</td>\n",
       "      <td>2.575953</td>\n",
       "      <td>1465031020779</td>\n",
       "      <td>6027</td>\n",
       "      <td>5800</td>\n",
       "    </tr>\n",
       "    <tr>\n",
       "      <th>4323</th>\n",
       "      <td>8647</td>\n",
       "      <td>D6:B8:C6:BA:9B:2B</td>\n",
       "      <td>114</td>\n",
       "      <td>1465033077748</td>\n",
       "      <td>2.157185</td>\n",
       "      <td>1465033084323</td>\n",
       "      <td>6575</td>\n",
       "      <td>5800</td>\n",
       "    </tr>\n",
       "    <tr>\n",
       "      <th>4339</th>\n",
       "      <td>8679</td>\n",
       "      <td>D6:B8:C6:BA:9B:2B</td>\n",
       "      <td>114</td>\n",
       "      <td>1465033169723</td>\n",
       "      <td>2.575953</td>\n",
       "      <td>1465033175524</td>\n",
       "      <td>5801</td>\n",
       "      <td>5800</td>\n",
       "    </tr>\n",
       "    <tr>\n",
       "      <th>5001</th>\n",
       "      <td>10003</td>\n",
       "      <td>D6:B8:C6:BA:9B:2B</td>\n",
       "      <td>114</td>\n",
       "      <td>1465036943359</td>\n",
       "      <td>2.558358</td>\n",
       "      <td>1465036949167</td>\n",
       "      <td>5808</td>\n",
       "      <td>5800</td>\n",
       "    </tr>\n",
       "    <tr>\n",
       "      <th>5130</th>\n",
       "      <td>10261</td>\n",
       "      <td>D6:B8:C6:BA:9B:2B</td>\n",
       "      <td>114</td>\n",
       "      <td>1465037678568</td>\n",
       "      <td>2.568915</td>\n",
       "      <td>1465037684472</td>\n",
       "      <td>5904</td>\n",
       "      <td>5800</td>\n",
       "    </tr>\n",
       "    <tr>\n",
       "      <th>5403</th>\n",
       "      <td>10770</td>\n",
       "      <td>D6:B8:C6:BA:9B:2B</td>\n",
       "      <td>22</td>\n",
       "      <td>1465039235001</td>\n",
       "      <td>2.340176</td>\n",
       "      <td>1465039245359</td>\n",
       "      <td>10358</td>\n",
       "      <td>5800</td>\n",
       "    </tr>\n",
       "    <tr>\n",
       "      <th>5548</th>\n",
       "      <td>10971</td>\n",
       "      <td>D6:B8:C6:BA:9B:2B</td>\n",
       "      <td>114</td>\n",
       "      <td>1465040066201</td>\n",
       "      <td>2.118475</td>\n",
       "      <td>1465040080185</td>\n",
       "      <td>13984</td>\n",
       "      <td>5800</td>\n",
       "    </tr>\n",
       "    <tr>\n",
       "      <th>5581</th>\n",
       "      <td>11030</td>\n",
       "      <td>D6:B8:C6:BA:9B:2B</td>\n",
       "      <td>98</td>\n",
       "      <td>1465040262612</td>\n",
       "      <td>2.537243</td>\n",
       "      <td>1465040281087</td>\n",
       "      <td>18475</td>\n",
       "      <td>5800</td>\n",
       "    </tr>\n",
       "    <tr>\n",
       "      <th>5810</th>\n",
       "      <td>11267</td>\n",
       "      <td>D6:B8:C6:BA:9B:2B</td>\n",
       "      <td>114</td>\n",
       "      <td>1465041580759</td>\n",
       "      <td>2.255718</td>\n",
       "      <td>1465041620695</td>\n",
       "      <td>39936</td>\n",
       "      <td>5800</td>\n",
       "    </tr>\n",
       "  </tbody>\n",
       "</table>\n",
       "</div>"
      ],
      "text/plain": [
       "      index              badge  numSamples             ts   voltage  \\\n",
       "1218   2437  D6:B8:C6:BA:9B:2B         114  1465015378836  2.632258   \n",
       "2377   4755  D6:B8:C6:BA:9B:2B         114  1465021984723  2.435191   \n",
       "3961   7923  D6:B8:C6:BA:9B:2B         114  1465031014752  2.575953   \n",
       "4323   8647  D6:B8:C6:BA:9B:2B         114  1465033077748  2.157185   \n",
       "4339   8679  D6:B8:C6:BA:9B:2B         114  1465033169723  2.575953   \n",
       "5001  10003  D6:B8:C6:BA:9B:2B         114  1465036943359  2.558358   \n",
       "5130  10261  D6:B8:C6:BA:9B:2B         114  1465037678568  2.568915   \n",
       "5403  10770  D6:B8:C6:BA:9B:2B          22  1465039235001  2.340176   \n",
       "5548  10971  D6:B8:C6:BA:9B:2B         114  1465040066201  2.118475   \n",
       "5581  11030  D6:B8:C6:BA:9B:2B          98  1465040262612  2.537243   \n",
       "5810  11267  D6:B8:C6:BA:9B:2B         114  1465041580759  2.255718   \n",
       "\n",
       "            ts_prev  diff_ts  expected  \n",
       "1218  1465015384649     5813      5800  \n",
       "2377  1465021991388     6665      5800  \n",
       "3961  1465031020779     6027      5800  \n",
       "4323  1465033084323     6575      5800  \n",
       "4339  1465033175524     5801      5800  \n",
       "5001  1465036949167     5808      5800  \n",
       "5130  1465037684472     5904      5800  \n",
       "5403  1465039245359    10358      5800  \n",
       "5548  1465040080185    13984      5800  \n",
       "5581  1465040281087    18475      5800  \n",
       "5810  1465041620695    39936      5800  "
      ]
     },
     "execution_count": 9,
     "metadata": {},
     "output_type": "execute_result"
    }
   ],
   "source": [
    "# Basically, you should only see \n",
    "expectedDiffMs = 50*114 + 100\n",
    "dfTimestampsMsBadge1['expected']=expectedDiffMs\n",
    "print(expectedDiffMs)\n",
    "dfTimestampsMsBadge1[dfTimestampsMsBadge1.diff_ts > dfTimestampsMsBadge1.expected]"
   ]
  },
  {
   "cell_type": "code",
   "execution_count": null,
   "metadata": {
    "collapsed": true
   },
   "outputs": [],
   "source": []
  }
 ],
 "metadata": {
  "kernelspec": {
   "display_name": "Python 2",
   "language": "python",
   "name": "python2"
  },
  "language_info": {
   "codemirror_mode": {
    "name": "ipython",
    "version": 2
   },
   "file_extension": ".py",
   "mimetype": "text/x-python",
   "name": "python",
   "nbconvert_exporter": "python",
   "pygments_lexer": "ipython2",
   "version": "2.7.6"
  }
 },
 "nbformat": 4,
 "nbformat_minor": 0
}
